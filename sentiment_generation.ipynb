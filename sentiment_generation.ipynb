{
 "cells": [
  {
   "cell_type": "code",
   "execution_count": 2,
   "id": "e1a0e0e3",
   "metadata": {},
   "outputs": [
    {
     "name": "stdout",
     "output_type": "stream",
     "text": [
      "✅ News for OOP saved to OOP_news.csv\n"
     ]
    }
   ],
   "source": [
    "import requests\n",
    "import pandas as pd\n",
    "\n",
    "# Your FMP API key\n",
    "API_KEY = \"Ke2DPxQbWpp1hk0BCTPqs15mS7ZmdaUT\"\n",
    "\n",
    "# Parameters: change these as needed\n",
    "TICKERS = \"OOP\"  # You can use \"AAPL,MSFT,NVDA\" for multiple stocks\n",
    "FROM_DATE = \"2024-06-11\"\n",
    "TO_DATE = \"2025-06-11\"\n",
    "LIMIT = 100000  # Max 250 per request\n",
    "\n",
    "url = \"https://financialmodelingprep.com/api/v3/stock_news\"\n",
    "params = {\n",
    "    \"tickers\": TICKERS,\n",
    "    \"from\": FROM_DATE,\n",
    "    \"to\": TO_DATE,\n",
    "    \"limit\": LIMIT,\n",
    "    \"apikey\": API_KEY\n",
    "}\n",
    "\n",
    "response = requests.get(url, params=params)\n",
    "news = response.json()\n",
    "\n",
    "# Convert to DataFrame and save as CSV\n",
    "df = pd.DataFrame(news)\n",
    "df.to_csv(f\"{TICKERS}_news.csv\", index=False)\n",
    "print(f\"✅ News for {TICKERS} saved to {TICKERS}_news.csv\")\n"
   ]
  }
 ],
 "metadata": {
  "kernelspec": {
   "display_name": "Python 3",
   "language": "python",
   "name": "python3"
  },
  "language_info": {
   "codemirror_mode": {
    "name": "ipython",
    "version": 3
   },
   "file_extension": ".py",
   "mimetype": "text/x-python",
   "name": "python",
   "nbconvert_exporter": "python",
   "pygments_lexer": "ipython3",
   "version": "3.12.1"
  }
 },
 "nbformat": 4,
 "nbformat_minor": 5
}
